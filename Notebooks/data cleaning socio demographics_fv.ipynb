{
 "cells": [
  {
   "cell_type": "code",
   "execution_count": 1,
   "metadata": {},
   "outputs": [],
   "source": [
    "import geopandas as gpd\n",
    "from geopandas.tools import sjoin\n",
    "import pandas as pd\n",
    "import requests\n",
    "import json\n",
    "from pprint import pprint\n",
    "from shapely.geometry import Point\n",
    "import matplotlib.pyplot as plt\n",
    "import numpy as np\n",
    "from itertools import compress\n",
    "import os\n",
    "\n",
    "\n",
    "from rdb_functions import generate_b1_b0\n",
    "from rdb_functions import fill_nas\n",
    "pd.set_option('display.max_columns', None)"
   ]
  },
  {
   "cell_type": "markdown",
   "metadata": {},
   "source": [
    "### Change the next values to import and change the data\n",
    "\n",
    "You can download the mexican census data in the next links: \n",
    "\n",
    "<ol>\n",
    "  <li><a href=\"https://www.inegi.org.mx/programas/ccpv/2010/#Datos_abiertos\">Census Data 2010</a></li>\n",
    "  <li><a href=\"https://www.inegi.org.mx/programas/ccpv/2020/#Datos_abiertos\">Census Data 2020</a></li>\n",
    "</ol>"
   ]
  },
  {
   "cell_type": "code",
   "execution_count": 75,
   "metadata": {},
   "outputs": [],
   "source": [
    "#Paarameters\n",
    "\n",
    "zm_n=21\n",
    "muns='14'\n",
    "year=2020"
   ]
  },
  {
   "cell_type": "code",
   "execution_count": 76,
   "metadata": {},
   "outputs": [],
   "source": [
    "zm=pd.read_excel(f\"/Volumes/TOSHIBA EXT/BootCamp/ZMs/ZM_{zm_n}.xlsx\")\n",
    "\n",
    "data=pd.read_csv(f\"/Volumes/TOSHIBA EXT/BootCamp/Datos/inegi/ageb_mza_urbana_{muns}_cpv{year}/conjunto_de_datos/conjunto_de_datos_ageb_urbana_{muns}_cpv{year}.csv\")\n",
    "#data=pd.read_csv(f\"/Volumes/TOSHIBA EXT/BootCamp/Datos/inegi/resultados_ageb_urbana_{muns}_cpv2010/conjunto_de_datos/resultados_ageb_urbana_{muns}_cpv2010.csv\")\n",
    "\n",
    "data.columns= data.columns.str.lower()\n",
    "\n",
    "data['clave']=data['entidad']*1000+data['mun']\n",
    "\n",
    "cl=[i in set(zm.clave) for i in data['clave']]\n",
    "data=data[cl]"
   ]
  },
  {
   "cell_type": "markdown",
   "metadata": {},
   "source": [
    "### Removing aggregated data and special characters"
   ]
  },
  {
   "cell_type": "code",
   "execution_count": 77,
   "metadata": {},
   "outputs": [],
   "source": [
    "data.replace('^\\*+$', np.nan, regex=True,inplace=True)\n",
    "data.replace('N/D', np.nan, regex=True,inplace=True)\n",
    "data=data[data['mza']!=0].reset_index(drop=True)"
   ]
  },
  {
   "cell_type": "markdown",
   "metadata": {},
   "source": [
    "### All missing values were replaced using a linear regression with total population as predictor"
   ]
  },
  {
   "cell_type": "code",
   "execution_count": 78,
   "metadata": {},
   "outputs": [],
   "source": [
    "variables_kept=['clave','loc','ageb','mza','pobtot','pocupada_f', 'pocupada', 'vph_autom', 'vivtot', 'vph_pc']\n",
    "\n",
    "data=data[variables_kept]\n",
    "\n",
    "variables_num=['pobtot','pocupada_f', 'pocupada', 'vph_autom', 'vivtot', 'vph_pc']\n",
    "\n",
    "for c in variables_num:\n",
    "    data[c]=pd.to_numeric(data[c])\n",
    "    \n",
    "for column in list(variables_num):\n",
    "    b1_b0=generate_b1_b0(data,'pobtot',column)\n",
    "    data[column]=fill_nas(data[column],data['pobtot'],b1_b0)\n",
    "\n",
    "def zero_plus(item,digits):\n",
    "    i=str(item)\n",
    "    zeros=digits-len(i)\n",
    "    return zeros*'0'+i\n",
    "\n",
    "data['loc']=[zero_plus(i,4) for i in data['loc']]\n",
    "data['ageb']=[zero_plus(i,4) for i in data['ageb']]\n",
    "data['mza']=[zero_plus(i,3) for i in data['mza']]\n",
    "\n",
    "data['id']=data['clave'].astype(str)+data['loc']+data['ageb']\n",
    "\n",
    "data=data.groupby(['clave','loc','ageb','id'],as_index=False).sum()\n",
    "\n",
    "data['pct_wf']  = data['pocupada_f']/data['pocupada']*100\n",
    "\n",
    "data['pct_hh_car'] = data['vph_autom']/data['vivtot']*100\n",
    "\n",
    "data['pct_hh_pc'] = data['vph_pc']/data['vivtot']*100\n",
    "\n",
    "path=f'/Volumes/TOSHIBA EXT/BootCamp/Datos/inegi/sociodem_{zm_n}_{muns}_{year}.csv'\n",
    "data.to_csv(path,index=False)"
   ]
  }
 ],
 "metadata": {
  "kernelspec": {
   "display_name": "Python 3",
   "language": "python",
   "name": "python3"
  },
  "language_info": {
   "codemirror_mode": {
    "name": "ipython",
    "version": 3
   },
   "file_extension": ".py",
   "mimetype": "text/x-python",
   "name": "python",
   "nbconvert_exporter": "python",
   "pygments_lexer": "ipython3",
   "version": "3.8.5"
  }
 },
 "nbformat": 4,
 "nbformat_minor": 4
}
