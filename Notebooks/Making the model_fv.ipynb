{
 "cells": [
  {
   "cell_type": "code",
   "execution_count": 316,
   "metadata": {},
   "outputs": [],
   "source": [
    "import pandas as pd\n",
    "import matplotlib.pyplot as plt\n",
    "import numpy as np\n",
    "from itertools import compress\n",
    "from sklearn.impute import SimpleImputer\n",
    "from sklearn.metrics import mean_squared_error\n",
    "from sklearn.linear_model import LinearRegression\n",
    "from sklearn import preprocessing\n",
    "from sklearn.model_selection import train_test_split\n",
    "from sklearn.ensemble import GradientBoostingRegressor\n",
    "import seaborn as sns\n",
    "import matplotlib.pyplot as plt\n",
    "from sklearn.ensemble import RandomForestRegressor\n",
    "import os\n",
    "from rdb_functions import generate_b1_b0\n",
    "from rdb_functions import fill_nas\n",
    "\n",
    "\n",
    "def zero_plus(item,digits):\n",
    "    i=str(item)\n",
    "    zeros=digits-len(i)\n",
    "    return zeros*'0'+i\n"
   ]
  },
  {
   "cell_type": "code",
   "execution_count": 2,
   "metadata": {},
   "outputs": [],
   "source": [
    "pd.set_option('display.max_columns', None)\n",
    "pd.set_option('display.max_rows', None)"
   ]
  },
  {
   "cell_type": "markdown",
   "metadata": {},
   "source": [
    "# Loading data"
   ]
  },
  {
   "cell_type": "markdown",
   "metadata": {},
   "source": [
    "# Data from 2020"
   ]
  },
  {
   "cell_type": "code",
   "execution_count": 126,
   "metadata": {},
   "outputs": [],
   "source": [
    "path=f'/Volumes/TOSHIBA EXT/BootCamp/Datos/inegi'\n",
    "os.listdir(path)\n",
    "\n",
    "# Reading all the information\n",
    "\n",
    "files=[ 'sociodem_13_15_2020.csv',\n",
    " 'sociodem_21_14_2020.csv',\n",
    " 'sociodem_31_19_2020.csv']\n",
    "\n",
    "data_20=pd.read_csv(path+'/'+'sociodem_13_09_2020.csv')\n",
    "\n",
    "for file in files:\n",
    "    aux=pd.read_csv(path+'/'+file)\n",
    "    data_20=data_20.append(aux)\n",
    "    \n",
    "data_20.reset_index(inplace=True,drop=True)\n",
    "\n",
    "data_20['id']=[zero_plus(i,13) for i in data_20['id']]\n",
    "\n",
    "path=f'/Volumes/TOSHIBA EXT/BootCamp/Datos/MetrosCubicos/'\n",
    "\n",
    "prices=pd.read_csv(path+'precios_13.csv')\n",
    "\n",
    "for i in ['21','31']:\n",
    "    aux=pd.read_csv(path+f'precios_{i}.csv')\n",
    "    prices=prices.append(aux)\n",
    "\n",
    "data_20=prices.merge(data_20,how='left',on=['id','clave'],indicator=True)\n",
    "\n",
    "data_20=data_20[data_20['_merge']=='both']\n",
    "data_20.shape"
   ]
  },
  {
   "cell_type": "code",
   "execution_count": null,
   "metadata": {},
   "outputs": [],
   "source": []
  },
  {
   "cell_type": "code",
   "execution_count": 185,
   "metadata": {},
   "outputs": [
    {
     "name": "stdout",
     "output_type": "stream",
     "text": [
      "(2947, 16)\n",
      "(2947, 16)\n"
     ]
    }
   ],
   "source": [
    "b=set(data_20.id.unique())\n",
    "ids=a.intersection(b)\n",
    "\n",
    "cl=[i in ids for i in data_20.id]\n",
    "print(data_20.shape)\n",
    "data_10=data_20[cl]\n",
    "print(data_20.shape)"
   ]
  },
  {
   "cell_type": "code",
   "execution_count": 193,
   "metadata": {},
   "outputs": [],
   "source": [
    "data_20.sort_values('id',inplace=True)"
   ]
  },
  {
   "cell_type": "code",
   "execution_count": 242,
   "metadata": {},
   "outputs": [],
   "source": [
    "data_20=data_20[~data_10.pobtot.isna()]"
   ]
  },
  {
   "cell_type": "code",
   "execution_count": 243,
   "metadata": {},
   "outputs": [],
   "source": [
    "X_20=data_20[['pobtot','vph_pc',\n",
    " 'pct_wf',\n",
    " 'pct_hh_car',\n",
    " 'pct_hh_pc']]\n",
    "\n",
    "y=data_20.p_m"
   ]
  },
  {
   "cell_type": "markdown",
   "metadata": {},
   "source": [
    "## Splitting in train and test"
   ]
  },
  {
   "cell_type": "markdown",
   "metadata": {},
   "source": [
    "In this section we split the data in test data and train data. We did this because in further analysys the idea is to tune the hyperparameters to have better estimators."
   ]
  },
  {
   "cell_type": "code",
   "execution_count": 244,
   "metadata": {},
   "outputs": [
    {
     "name": "stderr",
     "output_type": "stream",
     "text": [
      "<ipython-input-244-8bd2ef6f9e7a>:3: SettingWithCopyWarning: \n",
      "A value is trying to be set on a copy of a slice from a DataFrame.\n",
      "Try using .loc[row_indexer,col_indexer] = value instead\n",
      "\n",
      "See the caveats in the documentation: https://pandas.pydata.org/pandas-docs/stable/user_guide/indexing.html#returning-a-view-versus-a-copy\n",
      "  X_20[column]=fill_nas(X_20[column],X_20['pobtot'],b1_b0)\n",
      "<ipython-input-244-8bd2ef6f9e7a>:3: SettingWithCopyWarning: \n",
      "A value is trying to be set on a copy of a slice from a DataFrame.\n",
      "Try using .loc[row_indexer,col_indexer] = value instead\n",
      "\n",
      "See the caveats in the documentation: https://pandas.pydata.org/pandas-docs/stable/user_guide/indexing.html#returning-a-view-versus-a-copy\n",
      "  X_20[column]=fill_nas(X_20[column],X_20['pobtot'],b1_b0)\n",
      "<ipython-input-244-8bd2ef6f9e7a>:3: SettingWithCopyWarning: \n",
      "A value is trying to be set on a copy of a slice from a DataFrame.\n",
      "Try using .loc[row_indexer,col_indexer] = value instead\n",
      "\n",
      "See the caveats in the documentation: https://pandas.pydata.org/pandas-docs/stable/user_guide/indexing.html#returning-a-view-versus-a-copy\n",
      "  X_20[column]=fill_nas(X_20[column],X_20['pobtot'],b1_b0)\n",
      "<ipython-input-244-8bd2ef6f9e7a>:3: SettingWithCopyWarning: \n",
      "A value is trying to be set on a copy of a slice from a DataFrame.\n",
      "Try using .loc[row_indexer,col_indexer] = value instead\n",
      "\n",
      "See the caveats in the documentation: https://pandas.pydata.org/pandas-docs/stable/user_guide/indexing.html#returning-a-view-versus-a-copy\n",
      "  X_20[column]=fill_nas(X_20[column],X_20['pobtot'],b1_b0)\n",
      "<ipython-input-244-8bd2ef6f9e7a>:3: SettingWithCopyWarning: \n",
      "A value is trying to be set on a copy of a slice from a DataFrame.\n",
      "Try using .loc[row_indexer,col_indexer] = value instead\n",
      "\n",
      "See the caveats in the documentation: https://pandas.pydata.org/pandas-docs/stable/user_guide/indexing.html#returning-a-view-versus-a-copy\n",
      "  X_20[column]=fill_nas(X_20[column],X_20['pobtot'],b1_b0)\n"
     ]
    }
   ],
   "source": [
    "for column in list(X_20):\n",
    "    b1_b0=generate_b1_b0(X_20,'pobtot',column)\n",
    "    X_20[column]=fill_nas(X_20[column],X_20['pobtot'],b1_b0)"
   ]
  },
  {
   "cell_type": "code",
   "execution_count": 245,
   "metadata": {},
   "outputs": [
    {
     "name": "stderr",
     "output_type": "stream",
     "text": [
      "/Users/rafa/opt/anaconda3/lib/python3.8/site-packages/pandas/core/frame.py:4163: SettingWithCopyWarning: \n",
      "A value is trying to be set on a copy of a slice from a DataFrame\n",
      "\n",
      "See the caveats in the documentation: https://pandas.pydata.org/pandas-docs/stable/user_guide/indexing.html#returning-a-view-versus-a-copy\n",
      "  return super().drop(\n"
     ]
    }
   ],
   "source": [
    "X_20.drop(columns='pobtot',inplace=True)"
   ]
  },
  {
   "cell_type": "code",
   "execution_count": 246,
   "metadata": {},
   "outputs": [],
   "source": [
    "X_train, X_test, y_train, y_test = train_test_split(X_20, y, test_size=0.33, random_state=42)"
   ]
  },
  {
   "cell_type": "code",
   "execution_count": 247,
   "metadata": {},
   "outputs": [],
   "source": [
    "corlist=['p_m']\n",
    "corlist.extend(list(X_20))"
   ]
  },
  {
   "cell_type": "markdown",
   "metadata": {},
   "source": [
    "### Showing correlation between variables in a heatmap"
   ]
  },
  {
   "cell_type": "code",
   "execution_count": 248,
   "metadata": {},
   "outputs": [
    {
     "data": {
      "text/plain": [
       "<AxesSubplot:>"
      ]
     },
     "execution_count": 248,
     "metadata": {},
     "output_type": "execute_result"
    },
    {
     "data": {
      "image/png": "[encoded data removed]",
      "text/plain": [
       "<Figure size 432x288 with 2 Axes>"
      ]
     },
     "metadata": {
      "needs_background": "light"
     },
     "output_type": "display_data"
    }
   ],
   "source": [
    "sns.heatmap((data[corlist]).corr())"
   ]
  },
  {
   "cell_type": "markdown",
   "metadata": {},
   "source": [
    "### Gradient Boosting Regressor"
   ]
  },
  {
   "cell_type": "markdown",
   "metadata": {},
   "source": [
    "In the next step we estimate the price in 2010, we used a Gradient Boosting Regressor just to get familiar with the model, there was no particular reason to use this model besides their good properties, the parameters were by default. In further analysis these parameters are going to be optimized."
   ]
  },
  {
   "cell_type": "code",
   "execution_count": 249,
   "metadata": {},
   "outputs": [
    {
     "data": {
      "text/plain": [
       "GradientBoostingRegressor(n_estimators=200, random_state=42, subsample=0.6)"
      ]
     },
     "execution_count": 249,
     "metadata": {},
     "output_type": "execute_result"
    }
   ],
   "source": [
    "gbr = GradientBoostingRegressor(\n",
    "learning_rate=0.1,\n",
    "n_estimators=200,\n",
    "subsample=0.6,\n",
    "random_state=42)\n",
    "gbr.fit(X_train, y_train)"
   ]
  },
  {
   "cell_type": "code",
   "execution_count": 317,
   "metadata": {},
   "outputs": [
    {
     "name": "stdout",
     "output_type": "stream",
     "text": [
      "El error (rmse) de test es: 6660.566938538847\n"
     ]
    }
   ],
   "source": [
    "# Error test\n",
    "# ==============================================================================\n",
    "predicciones = gbr.predict(X = X_test)\n",
    "\n",
    "rmse = mean_squared_error(\n",
    "        y_true  = y_test,\n",
    "        y_pred  = predicciones,\n",
    "        squared = False\n",
    "       )\n",
    "print(f\"El error (rmse) de test es: {rmse}\")"
   ]
  },
  {
   "cell_type": "code",
   "execution_count": 318,
   "metadata": {},
   "outputs": [
    {
     "data": {
      "text/plain": [
       "count     2780.000000\n",
       "mean     15473.118343\n",
       "std       7444.378062\n",
       "min       5363.941176\n",
       "25%       9820.595682\n",
       "50%      13294.779377\n",
       "75%      19869.304291\n",
       "max      38759.689922\n",
       "Name: p_m, dtype: float64"
      ]
     },
     "execution_count": 318,
     "metadata": {},
     "output_type": "execute_result"
    }
   ],
   "source": [
    "y.describe()"
   ]
  },
  {
   "cell_type": "code",
   "execution_count": 327,
   "metadata": {},
   "outputs": [
    {
     "data": {
      "image/png": "[encoded data removed]",
      "text/plain": [
       "<Figure size 432x288 with 1 Axes>"
      ]
     },
     "metadata": {
      "needs_background": "light"
     },
     "output_type": "display_data"
    }
   ],
   "source": [
    "fig = plt.figure()\n",
    "ax1 = fig.add_subplot(111)\n",
    "\n",
    "plt.scatter(range(len(y_test)),y_test, s=10, c='b', marker=\"s\", label='true values')\n",
    "plt.scatter(range(len(y_test)),predicciones, s=10, c='r', marker=\"o\", label='predicted')\n",
    "plt.legend(loc='upper left');\n",
    "plt.show()"
   ]
  },
  {
   "cell_type": "code",
   "execution_count": 328,
   "metadata": {},
   "outputs": [
    {
     "data": {
      "image/png": "[encoded data removed]",
      "text/plain": [
       "<Figure size 432x288 with 1 Axes>"
      ]
     },
     "metadata": {
      "needs_background": "light"
     },
     "output_type": "display_data"
    }
   ],
   "source": [
    "fig = plt.figure()\n",
    "ax1 = fig.add_subplot(111)\n",
    "\n",
    "plt.scatter(range(len(y_test)),y_test-predicciones, s=10, c='b', marker=\"s\", label='differences')\n",
    "plt.legend(loc='upper left');\n",
    "plt.show()"
   ]
  },
  {
   "cell_type": "markdown",
   "metadata": {},
   "source": [
    "The follow code shows the prediction weight of each variable."
   ]
  },
  {
   "cell_type": "code",
   "execution_count": 250,
   "metadata": {},
   "outputs": [
    {
     "data": {
      "image/png": "[encoded data removed]",
      "text/plain": [
       "<Figure size 432x288 with 1 Axes>"
      ]
     },
     "metadata": {
      "needs_background": "light"
     },
     "output_type": "display_data"
    }
   ],
   "source": [
    "# feature importances from random forest model\n",
    "importances = gbr.feature_importances_\n",
    "# index of greatest to least feature importances\n",
    "sorted_index = np.argsort(importances)[::-1]\n",
    "x = range(len(importances))\n",
    "# create tick labels\n",
    "feature_names=list(X_20)\n",
    "labels = np.array(feature_names)[sorted_index]\n",
    "plt.bar(x, importances[sorted_index], tick_label=labels)\n",
    "# rotate tick labels to vertical\n",
    "plt.xticks(rotation=90)\n",
    "plt.show()"
   ]
  },
  {
   "cell_type": "markdown",
   "metadata": {},
   "source": [
    "In this part we predict the prices in 2010. "
   ]
  },
  {
   "cell_type": "code",
   "execution_count": null,
   "metadata": {},
   "outputs": [],
   "source": []
  },
  {
   "cell_type": "code",
   "execution_count": 251,
   "metadata": {},
   "outputs": [
    {
     "name": "stdout",
     "output_type": "stream",
     "text": [
      "(2953, 14)\n",
      "(2947, 14)\n",
      "pobtot        167\n",
      "vph_pc        167\n",
      "pct_wf        183\n",
      "pct_hh_car    180\n",
      "pct_hh_pc     180\n",
      "dtype: int64\n"
     ]
    },
    {
     "name": "stderr",
     "output_type": "stream",
     "text": [
      "<ipython-input-251-4e31c6fe3480>:39: SettingWithCopyWarning: \n",
      "A value is trying to be set on a copy of a slice from a DataFrame.\n",
      "Try using .loc[row_indexer,col_indexer] = value instead\n",
      "\n",
      "See the caveats in the documentation: https://pandas.pydata.org/pandas-docs/stable/user_guide/indexing.html#returning-a-view-versus-a-copy\n",
      "  X_10[column]=fill_nas(X_10[column],X_10['pobtot'],b1_b0)\n",
      "<ipython-input-251-4e31c6fe3480>:39: SettingWithCopyWarning: \n",
      "A value is trying to be set on a copy of a slice from a DataFrame.\n",
      "Try using .loc[row_indexer,col_indexer] = value instead\n",
      "\n",
      "See the caveats in the documentation: https://pandas.pydata.org/pandas-docs/stable/user_guide/indexing.html#returning-a-view-versus-a-copy\n",
      "  X_10[column]=fill_nas(X_10[column],X_10['pobtot'],b1_b0)\n",
      "<ipython-input-251-4e31c6fe3480>:39: SettingWithCopyWarning: \n",
      "A value is trying to be set on a copy of a slice from a DataFrame.\n",
      "Try using .loc[row_indexer,col_indexer] = value instead\n",
      "\n",
      "See the caveats in the documentation: https://pandas.pydata.org/pandas-docs/stable/user_guide/indexing.html#returning-a-view-versus-a-copy\n",
      "  X_10[column]=fill_nas(X_10[column],X_10['pobtot'],b1_b0)\n"
     ]
    },
    {
     "name": "stdout",
     "output_type": "stream",
     "text": [
      "pobtot        167\n",
      "vph_pc        167\n",
      "pct_wf        167\n",
      "pct_hh_car    167\n",
      "pct_hh_pc     167\n",
      "dtype: int64\n"
     ]
    },
    {
     "name": "stderr",
     "output_type": "stream",
     "text": [
      "<ipython-input-251-4e31c6fe3480>:39: SettingWithCopyWarning: \n",
      "A value is trying to be set on a copy of a slice from a DataFrame.\n",
      "Try using .loc[row_indexer,col_indexer] = value instead\n",
      "\n",
      "See the caveats in the documentation: https://pandas.pydata.org/pandas-docs/stable/user_guide/indexing.html#returning-a-view-versus-a-copy\n",
      "  X_10[column]=fill_nas(X_10[column],X_10['pobtot'],b1_b0)\n",
      "<ipython-input-251-4e31c6fe3480>:39: SettingWithCopyWarning: \n",
      "A value is trying to be set on a copy of a slice from a DataFrame.\n",
      "Try using .loc[row_indexer,col_indexer] = value instead\n",
      "\n",
      "See the caveats in the documentation: https://pandas.pydata.org/pandas-docs/stable/user_guide/indexing.html#returning-a-view-versus-a-copy\n",
      "  X_10[column]=fill_nas(X_10[column],X_10['pobtot'],b1_b0)\n"
     ]
    }
   ],
   "source": [
    "path=f'/Volumes/TOSHIBA EXT/BootCamp/Datos/inegi'\n",
    "os.listdir(path)\n",
    "\n",
    "files=[ 'sociodem_13_15_2010.csv',\n",
    " 'sociodem_21_14_2010.csv',\n",
    " 'sociodem_31_19_2010.csv']\n",
    "\n",
    "data_10=pd.read_csv(path+'/'+'sociodem_13_09_2010.csv')\n",
    "\n",
    "for file in files:\n",
    "    aux=pd.read_csv(path+'/'+file)\n",
    "    data_10=data_10.append(aux)\n",
    "    \n",
    "data_10.reset_index(inplace=True,drop=True)\n",
    "\n",
    "\n",
    "data_10['id']=[zero_plus(i,13) for i in data_10['id']]\n",
    "\n",
    "data_10=prices[['clave','id','zm']].merge(data_10,how='left',on=['clave','id'])\n",
    "\n",
    "a=set(data_10.id.unique())\n",
    "\n",
    "data_10.sort_values('id',inplace=True)\n",
    "\n",
    "cl=[i in ids for i in data_10.id]\n",
    "print(data_10.shape)\n",
    "data_10=data_10[cl]\n",
    "print(data_10.shape)"
   ]
  },
  {
   "cell_type": "code",
   "execution_count": 253,
   "metadata": {},
   "outputs": [],
   "source": [
    "data_10=data_10[~data_10.pobtot.isna()]"
   ]
  },
  {
   "cell_type": "code",
   "execution_count": 254,
   "metadata": {},
   "outputs": [
    {
     "name": "stdout",
     "output_type": "stream",
     "text": [
      "(2780, 14)\n",
      "(2780, 16)\n"
     ]
    }
   ],
   "source": [
    "print(data_10.shape)\n",
    "print(data_20.shape)"
   ]
  },
  {
   "cell_type": "code",
   "execution_count": 255,
   "metadata": {},
   "outputs": [
    {
     "data": {
      "text/html": [
       "<div>\n",
       "<style scoped>\n",
       "    .dataframe tbody tr th:only-of-type {\n",
       "        vertical-align: middle;\n",
       "    }\n",
       "\n",
       "    .dataframe tbody tr th {\n",
       "        vertical-align: top;\n",
       "    }\n",
       "\n",
       "    .dataframe thead th {\n",
       "        text-align: right;\n",
       "    }\n",
       "</style>\n",
       "<table border=\"1\" class=\"dataframe\">\n",
       "  <thead>\n",
       "    <tr style=\"text-align: right;\">\n",
       "      <th></th>\n",
       "      <th>clave</th>\n",
       "      <th>id</th>\n",
       "      <th>p_m</th>\n",
       "      <th>zm</th>\n",
       "      <th>loc</th>\n",
       "      <th>ageb</th>\n",
       "      <th>pobtot</th>\n",
       "      <th>pocupada_f</th>\n",
       "      <th>pocupada</th>\n",
       "      <th>vph_autom</th>\n",
       "      <th>vivtot</th>\n",
       "      <th>vph_pc</th>\n",
       "      <th>pct_wf</th>\n",
       "      <th>pct_hh_car</th>\n",
       "      <th>pct_hh_pc</th>\n",
       "      <th>_merge</th>\n",
       "    </tr>\n",
       "  </thead>\n",
       "  <tbody>\n",
       "    <tr>\n",
       "      <th>2947</th>\n",
       "      <td>19049</td>\n",
       "      <td>1904900010491</td>\n",
       "      <td>13372.675929</td>\n",
       "      <td>31</td>\n",
       "      <td>1.0</td>\n",
       "      <td>0491</td>\n",
       "      <td>1174.0</td>\n",
       "      <td>167.249642</td>\n",
       "      <td>511.804092</td>\n",
       "      <td>236.056487</td>\n",
       "      <td>432.0</td>\n",
       "      <td>109.229970</td>\n",
       "      <td>32.678449</td>\n",
       "      <td>54.642705</td>\n",
       "      <td>25.284715</td>\n",
       "      <td>both</td>\n",
       "    </tr>\n",
       "    <tr>\n",
       "      <th>2948</th>\n",
       "      <td>19049</td>\n",
       "      <td>1904900010504</td>\n",
       "      <td>22300.000000</td>\n",
       "      <td>31</td>\n",
       "      <td>1.0</td>\n",
       "      <td>0504</td>\n",
       "      <td>639.0</td>\n",
       "      <td>112.492265</td>\n",
       "      <td>280.764567</td>\n",
       "      <td>160.627790</td>\n",
       "      <td>254.0</td>\n",
       "      <td>111.900274</td>\n",
       "      <td>40.066404</td>\n",
       "      <td>63.239287</td>\n",
       "      <td>44.055226</td>\n",
       "      <td>both</td>\n",
       "    </tr>\n",
       "    <tr>\n",
       "      <th>2949</th>\n",
       "      <td>19049</td>\n",
       "      <td>1904900010557</td>\n",
       "      <td>29750.000000</td>\n",
       "      <td>31</td>\n",
       "      <td>1.0</td>\n",
       "      <td>0557</td>\n",
       "      <td>141.0</td>\n",
       "      <td>32.033016</td>\n",
       "      <td>74.386231</td>\n",
       "      <td>38.946698</td>\n",
       "      <td>102.0</td>\n",
       "      <td>16.820291</td>\n",
       "      <td>43.063099</td>\n",
       "      <td>38.183037</td>\n",
       "      <td>16.490481</td>\n",
       "      <td>both</td>\n",
       "    </tr>\n",
       "    <tr>\n",
       "      <th>2950</th>\n",
       "      <td>19049</td>\n",
       "      <td>1904900010561</td>\n",
       "      <td>15294.117647</td>\n",
       "      <td>31</td>\n",
       "      <td>1.0</td>\n",
       "      <td>0561</td>\n",
       "      <td>828.0</td>\n",
       "      <td>144.843153</td>\n",
       "      <td>396.442189</td>\n",
       "      <td>115.878357</td>\n",
       "      <td>211.0</td>\n",
       "      <td>59.809893</td>\n",
       "      <td>36.535757</td>\n",
       "      <td>54.918652</td>\n",
       "      <td>28.345921</td>\n",
       "      <td>both</td>\n",
       "    </tr>\n",
       "    <tr>\n",
       "      <th>2951</th>\n",
       "      <td>19049</td>\n",
       "      <td>1904900010580</td>\n",
       "      <td>22114.988827</td>\n",
       "      <td>31</td>\n",
       "      <td>1.0</td>\n",
       "      <td>0580</td>\n",
       "      <td>24.0</td>\n",
       "      <td>4.000000</td>\n",
       "      <td>9.000000</td>\n",
       "      <td>4.000000</td>\n",
       "      <td>24.0</td>\n",
       "      <td>4.393622</td>\n",
       "      <td>44.444444</td>\n",
       "      <td>16.666667</td>\n",
       "      <td>18.306760</td>\n",
       "      <td>both</td>\n",
       "    </tr>\n",
       "  </tbody>\n",
       "</table>\n",
       "</div>"
      ],
      "text/plain": [
       "      clave             id           p_m  zm  loc  ageb  pobtot  pocupada_f  \\\n",
       "2947  19049  1904900010491  13372.675929  31  1.0  0491  1174.0  167.249642   \n",
       "2948  19049  1904900010504  22300.000000  31  1.0  0504   639.0  112.492265   \n",
       "2949  19049  1904900010557  29750.000000  31  1.0  0557   141.0   32.033016   \n",
       "2950  19049  1904900010561  15294.117647  31  1.0  0561   828.0  144.843153   \n",
       "2951  19049  1904900010580  22114.988827  31  1.0  0580    24.0    4.000000   \n",
       "\n",
       "        pocupada   vph_autom  vivtot      vph_pc     pct_wf  pct_hh_car  \\\n",
       "2947  511.804092  236.056487   432.0  109.229970  32.678449   54.642705   \n",
       "2948  280.764567  160.627790   254.0  111.900274  40.066404   63.239287   \n",
       "2949   74.386231   38.946698   102.0   16.820291  43.063099   38.183037   \n",
       "2950  396.442189  115.878357   211.0   59.809893  36.535757   54.918652   \n",
       "2951    9.000000    4.000000    24.0    4.393622  44.444444   16.666667   \n",
       "\n",
       "      pct_hh_pc _merge  \n",
       "2947  25.284715   both  \n",
       "2948  44.055226   both  \n",
       "2949  16.490481   both  \n",
       "2950  28.345921   both  \n",
       "2951  18.306760   both  "
      ]
     },
     "execution_count": 255,
     "metadata": {},
     "output_type": "execute_result"
    }
   ],
   "source": [
    "data_20.tail()"
   ]
  },
  {
   "cell_type": "code",
   "execution_count": 257,
   "metadata": {},
   "outputs": [
    {
     "name": "stdout",
     "output_type": "stream",
     "text": [
      "pobtot         0\n",
      "vph_pc         0\n",
      "pct_wf        16\n",
      "pct_hh_car    13\n",
      "pct_hh_pc     13\n",
      "dtype: int64\n"
     ]
    },
    {
     "name": "stderr",
     "output_type": "stream",
     "text": [
      "<ipython-input-257-fd6573f98a6e>:10: SettingWithCopyWarning: \n",
      "A value is trying to be set on a copy of a slice from a DataFrame.\n",
      "Try using .loc[row_indexer,col_indexer] = value instead\n",
      "\n",
      "See the caveats in the documentation: https://pandas.pydata.org/pandas-docs/stable/user_guide/indexing.html#returning-a-view-versus-a-copy\n",
      "  X_10[column]=fill_nas(X_10[column],X_10['pobtot'],b1_b0)\n",
      "<ipython-input-257-fd6573f98a6e>:10: SettingWithCopyWarning: \n",
      "A value is trying to be set on a copy of a slice from a DataFrame.\n",
      "Try using .loc[row_indexer,col_indexer] = value instead\n",
      "\n",
      "See the caveats in the documentation: https://pandas.pydata.org/pandas-docs/stable/user_guide/indexing.html#returning-a-view-versus-a-copy\n",
      "  X_10[column]=fill_nas(X_10[column],X_10['pobtot'],b1_b0)\n",
      "<ipython-input-257-fd6573f98a6e>:10: SettingWithCopyWarning: \n",
      "A value is trying to be set on a copy of a slice from a DataFrame.\n",
      "Try using .loc[row_indexer,col_indexer] = value instead\n",
      "\n",
      "See the caveats in the documentation: https://pandas.pydata.org/pandas-docs/stable/user_guide/indexing.html#returning-a-view-versus-a-copy\n",
      "  X_10[column]=fill_nas(X_10[column],X_10['pobtot'],b1_b0)\n"
     ]
    },
    {
     "name": "stdout",
     "output_type": "stream",
     "text": [
      "pobtot        0\n",
      "vph_pc        0\n",
      "pct_wf        0\n",
      "pct_hh_car    0\n",
      "pct_hh_pc     0\n",
      "dtype: int64\n"
     ]
    },
    {
     "name": "stderr",
     "output_type": "stream",
     "text": [
      "<ipython-input-257-fd6573f98a6e>:10: SettingWithCopyWarning: \n",
      "A value is trying to be set on a copy of a slice from a DataFrame.\n",
      "Try using .loc[row_indexer,col_indexer] = value instead\n",
      "\n",
      "See the caveats in the documentation: https://pandas.pydata.org/pandas-docs/stable/user_guide/indexing.html#returning-a-view-versus-a-copy\n",
      "  X_10[column]=fill_nas(X_10[column],X_10['pobtot'],b1_b0)\n",
      "<ipython-input-257-fd6573f98a6e>:10: SettingWithCopyWarning: \n",
      "A value is trying to be set on a copy of a slice from a DataFrame.\n",
      "Try using .loc[row_indexer,col_indexer] = value instead\n",
      "\n",
      "See the caveats in the documentation: https://pandas.pydata.org/pandas-docs/stable/user_guide/indexing.html#returning-a-view-versus-a-copy\n",
      "  X_10[column]=fill_nas(X_10[column],X_10['pobtot'],b1_b0)\n"
     ]
    }
   ],
   "source": [
    "X_10=data_10[['pobtot','vph_pc',\n",
    " 'pct_wf',\n",
    " 'pct_hh_car',\n",
    " 'pct_hh_pc']]\n",
    "\n",
    "print(X_10.isna().sum())\n",
    "\n",
    "for column in list(X_10):\n",
    "    b1_b0=generate_b1_b0(X_10,'pobtot',column)\n",
    "    X_10[column]=fill_nas(X_10[column],X_10['pobtot'],b1_b0)\n",
    "    \n",
    "print(X_10.isna().sum())"
   ]
  },
  {
   "cell_type": "code",
   "execution_count": 258,
   "metadata": {
    "scrolled": true
   },
   "outputs": [
    {
     "name": "stderr",
     "output_type": "stream",
     "text": [
      "/Users/rafa/opt/anaconda3/lib/python3.8/site-packages/pandas/core/frame.py:4163: SettingWithCopyWarning: \n",
      "A value is trying to be set on a copy of a slice from a DataFrame\n",
      "\n",
      "See the caveats in the documentation: https://pandas.pydata.org/pandas-docs/stable/user_guide/indexing.html#returning-a-view-versus-a-copy\n",
      "  return super().drop(\n"
     ]
    }
   ],
   "source": [
    "X_10.drop(columns=['pobtot'],inplace=True)\n",
    "    \n",
    "gbr.predict(X_10)\n",
    "    \n",
    "growth=100*(y/gbr.predict(X_10))-100\n",
    "\n",
    "predictions=pd.DataFrame({'precio m2 2010 predicted':gbr.predict(X_10),\n",
    "               'precio m2 2020':y,\n",
    "               'growth':growth})"
   ]
  },
  {
   "cell_type": "code",
   "execution_count": 259,
   "metadata": {},
   "outputs": [],
   "source": [
    "data_10['growth']=growth\n",
    "results=data_10[['id','growth']]"
   ]
  },
  {
   "cell_type": "code",
   "execution_count": 300,
   "metadata": {},
   "outputs": [
    {
     "data": {
      "text/html": [
       "<div>\n",
       "<style scoped>\n",
       "    .dataframe tbody tr th:only-of-type {\n",
       "        vertical-align: middle;\n",
       "    }\n",
       "\n",
       "    .dataframe tbody tr th {\n",
       "        vertical-align: top;\n",
       "    }\n",
       "\n",
       "    .dataframe thead th {\n",
       "        text-align: right;\n",
       "    }\n",
       "</style>\n",
       "<table border=\"1\" class=\"dataframe\">\n",
       "  <thead>\n",
       "    <tr style=\"text-align: right;\">\n",
       "      <th></th>\n",
       "      <th>clave</th>\n",
       "      <th>id</th>\n",
       "      <th>zm</th>\n",
       "      <th>loc</th>\n",
       "      <th>ageb</th>\n",
       "      <th>pobtot</th>\n",
       "      <th>pocupada_f</th>\n",
       "      <th>pocupada</th>\n",
       "      <th>vph_autom</th>\n",
       "      <th>vivtot</th>\n",
       "      <th>vph_pc</th>\n",
       "      <th>pct_wf</th>\n",
       "      <th>pct_hh_car</th>\n",
       "      <th>pct_hh_pc</th>\n",
       "      <th>growth</th>\n",
       "    </tr>\n",
       "  </thead>\n",
       "  <tbody>\n",
       "    <tr>\n",
       "      <th>0</th>\n",
       "      <td>9002</td>\n",
       "      <td>0900200010148</td>\n",
       "      <td>13</td>\n",
       "      <td>1.0</td>\n",
       "      <td>0148</td>\n",
       "      <td>2645.0</td>\n",
       "      <td>465.779620</td>\n",
       "      <td>1078.848699</td>\n",
       "      <td>535.425071</td>\n",
       "      <td>794.0</td>\n",
       "      <td>483.25067</td>\n",
       "      <td>43.173767</td>\n",
       "      <td>67.433888</td>\n",
       "      <td>60.862805</td>\n",
       "      <td>-8.250909</td>\n",
       "    </tr>\n",
       "    <tr>\n",
       "      <th>1</th>\n",
       "      <td>9002</td>\n",
       "      <td>0900200010260</td>\n",
       "      <td>13</td>\n",
       "      <td>1.0</td>\n",
       "      <td>0260</td>\n",
       "      <td>5150.0</td>\n",
       "      <td>646.063037</td>\n",
       "      <td>1452.000000</td>\n",
       "      <td>528.000000</td>\n",
       "      <td>1408.0</td>\n",
       "      <td>637.00000</td>\n",
       "      <td>44.494699</td>\n",
       "      <td>37.500000</td>\n",
       "      <td>45.241477</td>\n",
       "      <td>-43.889553</td>\n",
       "    </tr>\n",
       "  </tbody>\n",
       "</table>\n",
       "</div>"
      ],
      "text/plain": [
       "   clave             id  zm  loc  ageb  pobtot  pocupada_f     pocupada  \\\n",
       "0   9002  0900200010148  13  1.0  0148  2645.0  465.779620  1078.848699   \n",
       "1   9002  0900200010260  13  1.0  0260  5150.0  646.063037  1452.000000   \n",
       "\n",
       "    vph_autom  vivtot     vph_pc     pct_wf  pct_hh_car  pct_hh_pc     growth  \n",
       "0  535.425071   794.0  483.25067  43.173767   67.433888  60.862805  -8.250909  \n",
       "1  528.000000  1408.0  637.00000  44.494699   37.500000  45.241477 -43.889553  "
      ]
     },
     "execution_count": 300,
     "metadata": {},
     "output_type": "execute_result"
    }
   ],
   "source": [
    "data_10.head(2)"
   ]
  },
  {
   "cell_type": "code",
   "execution_count": 302,
   "metadata": {},
   "outputs": [],
   "source": [
    "data_grouped=data_10[['zm','clave','growth']].groupby(['zm','clave'],as_index=False).mean()"
   ]
  },
  {
   "cell_type": "code",
   "execution_count": 321,
   "metadata": {},
   "outputs": [
    {
     "data": {
      "text/html": [
       "<div>\n",
       "<style scoped>\n",
       "    .dataframe tbody tr th:only-of-type {\n",
       "        vertical-align: middle;\n",
       "    }\n",
       "\n",
       "    .dataframe tbody tr th {\n",
       "        vertical-align: top;\n",
       "    }\n",
       "\n",
       "    .dataframe thead th {\n",
       "        text-align: right;\n",
       "    }\n",
       "</style>\n",
       "<table border=\"1\" class=\"dataframe\">\n",
       "  <thead>\n",
       "    <tr style=\"text-align: right;\">\n",
       "      <th></th>\n",
       "      <th>zm</th>\n",
       "      <th>clave</th>\n",
       "      <th>growth</th>\n",
       "    </tr>\n",
       "  </thead>\n",
       "  <tbody>\n",
       "    <tr>\n",
       "      <th>0</th>\n",
       "      <td>13</td>\n",
       "      <td>9002</td>\n",
       "      <td>2.281499</td>\n",
       "    </tr>\n",
       "    <tr>\n",
       "      <th>1</th>\n",
       "      <td>13</td>\n",
       "      <td>9003</td>\n",
       "      <td>11.477190</td>\n",
       "    </tr>\n",
       "    <tr>\n",
       "      <th>2</th>\n",
       "      <td>13</td>\n",
       "      <td>9004</td>\n",
       "      <td>123.741089</td>\n",
       "    </tr>\n",
       "    <tr>\n",
       "      <th>3</th>\n",
       "      <td>13</td>\n",
       "      <td>9005</td>\n",
       "      <td>19.255866</td>\n",
       "    </tr>\n",
       "    <tr>\n",
       "      <th>4</th>\n",
       "      <td>13</td>\n",
       "      <td>9006</td>\n",
       "      <td>7.277295</td>\n",
       "    </tr>\n",
       "    <tr>\n",
       "      <th>5</th>\n",
       "      <td>13</td>\n",
       "      <td>9007</td>\n",
       "      <td>10.427923</td>\n",
       "    </tr>\n",
       "    <tr>\n",
       "      <th>6</th>\n",
       "      <td>13</td>\n",
       "      <td>9008</td>\n",
       "      <td>78.179173</td>\n",
       "    </tr>\n",
       "    <tr>\n",
       "      <th>7</th>\n",
       "      <td>13</td>\n",
       "      <td>9009</td>\n",
       "      <td>10.152592</td>\n",
       "    </tr>\n",
       "    <tr>\n",
       "      <th>8</th>\n",
       "      <td>13</td>\n",
       "      <td>9010</td>\n",
       "      <td>37.739068</td>\n",
       "    </tr>\n",
       "    <tr>\n",
       "      <th>9</th>\n",
       "      <td>13</td>\n",
       "      <td>9011</td>\n",
       "      <td>5.899492</td>\n",
       "    </tr>\n",
       "    <tr>\n",
       "      <th>10</th>\n",
       "      <td>13</td>\n",
       "      <td>9012</td>\n",
       "      <td>39.081923</td>\n",
       "    </tr>\n",
       "    <tr>\n",
       "      <th>11</th>\n",
       "      <td>13</td>\n",
       "      <td>9013</td>\n",
       "      <td>17.581568</td>\n",
       "    </tr>\n",
       "    <tr>\n",
       "      <th>12</th>\n",
       "      <td>13</td>\n",
       "      <td>9014</td>\n",
       "      <td>8.299141</td>\n",
       "    </tr>\n",
       "    <tr>\n",
       "      <th>13</th>\n",
       "      <td>13</td>\n",
       "      <td>9015</td>\n",
       "      <td>5.857137</td>\n",
       "    </tr>\n",
       "    <tr>\n",
       "      <th>14</th>\n",
       "      <td>13</td>\n",
       "      <td>9016</td>\n",
       "      <td>31.343790</td>\n",
       "    </tr>\n",
       "    <tr>\n",
       "      <th>15</th>\n",
       "      <td>13</td>\n",
       "      <td>9017</td>\n",
       "      <td>3.074587</td>\n",
       "    </tr>\n",
       "    <tr>\n",
       "      <th>16</th>\n",
       "      <td>13</td>\n",
       "      <td>15002</td>\n",
       "      <td>-4.688704</td>\n",
       "    </tr>\n",
       "    <tr>\n",
       "      <th>17</th>\n",
       "      <td>13</td>\n",
       "      <td>15009</td>\n",
       "      <td>-1.857816</td>\n",
       "    </tr>\n",
       "    <tr>\n",
       "      <th>18</th>\n",
       "      <td>13</td>\n",
       "      <td>15010</td>\n",
       "      <td>-49.096551</td>\n",
       "    </tr>\n",
       "    <tr>\n",
       "      <th>19</th>\n",
       "      <td>13</td>\n",
       "      <td>15011</td>\n",
       "      <td>-4.320825</td>\n",
       "    </tr>\n",
       "    <tr>\n",
       "      <th>20</th>\n",
       "      <td>13</td>\n",
       "      <td>15013</td>\n",
       "      <td>39.587736</td>\n",
       "    </tr>\n",
       "    <tr>\n",
       "      <th>21</th>\n",
       "      <td>13</td>\n",
       "      <td>15016</td>\n",
       "      <td>-41.442470</td>\n",
       "    </tr>\n",
       "    <tr>\n",
       "      <th>22</th>\n",
       "      <td>13</td>\n",
       "      <td>15020</td>\n",
       "      <td>-6.838143</td>\n",
       "    </tr>\n",
       "    <tr>\n",
       "      <th>23</th>\n",
       "      <td>13</td>\n",
       "      <td>15022</td>\n",
       "      <td>-28.575404</td>\n",
       "    </tr>\n",
       "    <tr>\n",
       "      <th>24</th>\n",
       "      <td>13</td>\n",
       "      <td>15024</td>\n",
       "      <td>0.131076</td>\n",
       "    </tr>\n",
       "    <tr>\n",
       "      <th>25</th>\n",
       "      <td>13</td>\n",
       "      <td>15025</td>\n",
       "      <td>-6.641769</td>\n",
       "    </tr>\n",
       "    <tr>\n",
       "      <th>26</th>\n",
       "      <td>13</td>\n",
       "      <td>15028</td>\n",
       "      <td>33.206434</td>\n",
       "    </tr>\n",
       "    <tr>\n",
       "      <th>27</th>\n",
       "      <td>13</td>\n",
       "      <td>15029</td>\n",
       "      <td>7.599312</td>\n",
       "    </tr>\n",
       "    <tr>\n",
       "      <th>28</th>\n",
       "      <td>13</td>\n",
       "      <td>15031</td>\n",
       "      <td>-11.595566</td>\n",
       "    </tr>\n",
       "    <tr>\n",
       "      <th>29</th>\n",
       "      <td>13</td>\n",
       "      <td>15033</td>\n",
       "      <td>3.072167</td>\n",
       "    </tr>\n",
       "    <tr>\n",
       "      <th>30</th>\n",
       "      <td>13</td>\n",
       "      <td>15035</td>\n",
       "      <td>-45.609668</td>\n",
       "    </tr>\n",
       "    <tr>\n",
       "      <th>31</th>\n",
       "      <td>13</td>\n",
       "      <td>15036</td>\n",
       "      <td>-55.356634</td>\n",
       "    </tr>\n",
       "    <tr>\n",
       "      <th>32</th>\n",
       "      <td>13</td>\n",
       "      <td>15037</td>\n",
       "      <td>81.609220</td>\n",
       "    </tr>\n",
       "    <tr>\n",
       "      <th>33</th>\n",
       "      <td>13</td>\n",
       "      <td>15039</td>\n",
       "      <td>-5.821945</td>\n",
       "    </tr>\n",
       "    <tr>\n",
       "      <th>34</th>\n",
       "      <td>13</td>\n",
       "      <td>15044</td>\n",
       "      <td>-25.261666</td>\n",
       "    </tr>\n",
       "    <tr>\n",
       "      <th>35</th>\n",
       "      <td>13</td>\n",
       "      <td>15046</td>\n",
       "      <td>0.728717</td>\n",
       "    </tr>\n",
       "    <tr>\n",
       "      <th>36</th>\n",
       "      <td>13</td>\n",
       "      <td>15053</td>\n",
       "      <td>-3.504023</td>\n",
       "    </tr>\n",
       "    <tr>\n",
       "      <th>37</th>\n",
       "      <td>13</td>\n",
       "      <td>15057</td>\n",
       "      <td>35.650036</td>\n",
       "    </tr>\n",
       "    <tr>\n",
       "      <th>38</th>\n",
       "      <td>13</td>\n",
       "      <td>15058</td>\n",
       "      <td>21.248781</td>\n",
       "    </tr>\n",
       "    <tr>\n",
       "      <th>39</th>\n",
       "      <td>13</td>\n",
       "      <td>15059</td>\n",
       "      <td>-49.112066</td>\n",
       "    </tr>\n",
       "    <tr>\n",
       "      <th>40</th>\n",
       "      <td>13</td>\n",
       "      <td>15060</td>\n",
       "      <td>8.093147</td>\n",
       "    </tr>\n",
       "    <tr>\n",
       "      <th>41</th>\n",
       "      <td>13</td>\n",
       "      <td>15061</td>\n",
       "      <td>-67.783055</td>\n",
       "    </tr>\n",
       "    <tr>\n",
       "      <th>42</th>\n",
       "      <td>13</td>\n",
       "      <td>15068</td>\n",
       "      <td>-35.007910</td>\n",
       "    </tr>\n",
       "    <tr>\n",
       "      <th>43</th>\n",
       "      <td>13</td>\n",
       "      <td>15069</td>\n",
       "      <td>81.298711</td>\n",
       "    </tr>\n",
       "    <tr>\n",
       "      <th>44</th>\n",
       "      <td>13</td>\n",
       "      <td>15070</td>\n",
       "      <td>10.304692</td>\n",
       "    </tr>\n",
       "    <tr>\n",
       "      <th>45</th>\n",
       "      <td>13</td>\n",
       "      <td>15075</td>\n",
       "      <td>8.548208</td>\n",
       "    </tr>\n",
       "    <tr>\n",
       "      <th>46</th>\n",
       "      <td>13</td>\n",
       "      <td>15081</td>\n",
       "      <td>5.853845</td>\n",
       "    </tr>\n",
       "    <tr>\n",
       "      <th>47</th>\n",
       "      <td>13</td>\n",
       "      <td>15084</td>\n",
       "      <td>-39.168251</td>\n",
       "    </tr>\n",
       "    <tr>\n",
       "      <th>48</th>\n",
       "      <td>13</td>\n",
       "      <td>15091</td>\n",
       "      <td>16.919647</td>\n",
       "    </tr>\n",
       "    <tr>\n",
       "      <th>49</th>\n",
       "      <td>13</td>\n",
       "      <td>15092</td>\n",
       "      <td>8.096667</td>\n",
       "    </tr>\n",
       "    <tr>\n",
       "      <th>50</th>\n",
       "      <td>13</td>\n",
       "      <td>15093</td>\n",
       "      <td>-53.726138</td>\n",
       "    </tr>\n",
       "    <tr>\n",
       "      <th>51</th>\n",
       "      <td>13</td>\n",
       "      <td>15095</td>\n",
       "      <td>42.873455</td>\n",
       "    </tr>\n",
       "    <tr>\n",
       "      <th>52</th>\n",
       "      <td>13</td>\n",
       "      <td>15099</td>\n",
       "      <td>25.595628</td>\n",
       "    </tr>\n",
       "    <tr>\n",
       "      <th>53</th>\n",
       "      <td>13</td>\n",
       "      <td>15100</td>\n",
       "      <td>-61.878432</td>\n",
       "    </tr>\n",
       "    <tr>\n",
       "      <th>54</th>\n",
       "      <td>13</td>\n",
       "      <td>15103</td>\n",
       "      <td>19.757670</td>\n",
       "    </tr>\n",
       "    <tr>\n",
       "      <th>55</th>\n",
       "      <td>13</td>\n",
       "      <td>15104</td>\n",
       "      <td>9.011934</td>\n",
       "    </tr>\n",
       "    <tr>\n",
       "      <th>56</th>\n",
       "      <td>13</td>\n",
       "      <td>15108</td>\n",
       "      <td>-4.677905</td>\n",
       "    </tr>\n",
       "    <tr>\n",
       "      <th>57</th>\n",
       "      <td>13</td>\n",
       "      <td>15109</td>\n",
       "      <td>-8.648058</td>\n",
       "    </tr>\n",
       "    <tr>\n",
       "      <th>58</th>\n",
       "      <td>13</td>\n",
       "      <td>15112</td>\n",
       "      <td>-6.267070</td>\n",
       "    </tr>\n",
       "    <tr>\n",
       "      <th>59</th>\n",
       "      <td>13</td>\n",
       "      <td>15120</td>\n",
       "      <td>-11.472551</td>\n",
       "    </tr>\n",
       "    <tr>\n",
       "      <th>60</th>\n",
       "      <td>13</td>\n",
       "      <td>15121</td>\n",
       "      <td>12.688633</td>\n",
       "    </tr>\n",
       "    <tr>\n",
       "      <th>61</th>\n",
       "      <td>13</td>\n",
       "      <td>15122</td>\n",
       "      <td>-1.639309</td>\n",
       "    </tr>\n",
       "    <tr>\n",
       "      <th>62</th>\n",
       "      <td>21</td>\n",
       "      <td>14039</td>\n",
       "      <td>34.339185</td>\n",
       "    </tr>\n",
       "    <tr>\n",
       "      <th>63</th>\n",
       "      <td>21</td>\n",
       "      <td>14044</td>\n",
       "      <td>10.281234</td>\n",
       "    </tr>\n",
       "    <tr>\n",
       "      <th>64</th>\n",
       "      <td>21</td>\n",
       "      <td>14051</td>\n",
       "      <td>98.661224</td>\n",
       "    </tr>\n",
       "    <tr>\n",
       "      <th>65</th>\n",
       "      <td>21</td>\n",
       "      <td>14070</td>\n",
       "      <td>-40.965568</td>\n",
       "    </tr>\n",
       "    <tr>\n",
       "      <th>66</th>\n",
       "      <td>21</td>\n",
       "      <td>14097</td>\n",
       "      <td>3.260512</td>\n",
       "    </tr>\n",
       "    <tr>\n",
       "      <th>67</th>\n",
       "      <td>21</td>\n",
       "      <td>14098</td>\n",
       "      <td>6.258355</td>\n",
       "    </tr>\n",
       "    <tr>\n",
       "      <th>68</th>\n",
       "      <td>21</td>\n",
       "      <td>14101</td>\n",
       "      <td>-10.544185</td>\n",
       "    </tr>\n",
       "    <tr>\n",
       "      <th>69</th>\n",
       "      <td>21</td>\n",
       "      <td>14120</td>\n",
       "      <td>31.577787</td>\n",
       "    </tr>\n",
       "    <tr>\n",
       "      <th>70</th>\n",
       "      <td>31</td>\n",
       "      <td>19006</td>\n",
       "      <td>4.207783</td>\n",
       "    </tr>\n",
       "    <tr>\n",
       "      <th>71</th>\n",
       "      <td>31</td>\n",
       "      <td>19009</td>\n",
       "      <td>-28.056269</td>\n",
       "    </tr>\n",
       "    <tr>\n",
       "      <th>72</th>\n",
       "      <td>31</td>\n",
       "      <td>19010</td>\n",
       "      <td>-10.291482</td>\n",
       "    </tr>\n",
       "    <tr>\n",
       "      <th>73</th>\n",
       "      <td>31</td>\n",
       "      <td>19018</td>\n",
       "      <td>-10.608249</td>\n",
       "    </tr>\n",
       "    <tr>\n",
       "      <th>74</th>\n",
       "      <td>31</td>\n",
       "      <td>19019</td>\n",
       "      <td>69.965029</td>\n",
       "    </tr>\n",
       "    <tr>\n",
       "      <th>75</th>\n",
       "      <td>31</td>\n",
       "      <td>19021</td>\n",
       "      <td>-17.620851</td>\n",
       "    </tr>\n",
       "    <tr>\n",
       "      <th>76</th>\n",
       "      <td>31</td>\n",
       "      <td>19026</td>\n",
       "      <td>-2.638996</td>\n",
       "    </tr>\n",
       "    <tr>\n",
       "      <th>77</th>\n",
       "      <td>31</td>\n",
       "      <td>19031</td>\n",
       "      <td>-37.645115</td>\n",
       "    </tr>\n",
       "    <tr>\n",
       "      <th>78</th>\n",
       "      <td>31</td>\n",
       "      <td>19039</td>\n",
       "      <td>29.712760</td>\n",
       "    </tr>\n",
       "    <tr>\n",
       "      <th>79</th>\n",
       "      <td>31</td>\n",
       "      <td>19045</td>\n",
       "      <td>-43.336118</td>\n",
       "    </tr>\n",
       "    <tr>\n",
       "      <th>80</th>\n",
       "      <td>31</td>\n",
       "      <td>19046</td>\n",
       "      <td>-1.696510</td>\n",
       "    </tr>\n",
       "    <tr>\n",
       "      <th>81</th>\n",
       "      <td>31</td>\n",
       "      <td>19048</td>\n",
       "      <td>33.747683</td>\n",
       "    </tr>\n",
       "    <tr>\n",
       "      <th>82</th>\n",
       "      <td>31</td>\n",
       "      <td>19049</td>\n",
       "      <td>15.515749</td>\n",
       "    </tr>\n",
       "  </tbody>\n",
       "</table>\n",
       "</div>"
      ],
      "text/plain": [
       "    zm  clave      growth\n",
       "0   13   9002    2.281499\n",
       "1   13   9003   11.477190\n",
       "2   13   9004  123.741089\n",
       "3   13   9005   19.255866\n",
       "4   13   9006    7.277295\n",
       "5   13   9007   10.427923\n",
       "6   13   9008   78.179173\n",
       "7   13   9009   10.152592\n",
       "8   13   9010   37.739068\n",
       "9   13   9011    5.899492\n",
       "10  13   9012   39.081923\n",
       "11  13   9013   17.581568\n",
       "12  13   9014    8.299141\n",
       "13  13   9015    5.857137\n",
       "14  13   9016   31.343790\n",
       "15  13   9017    3.074587\n",
       "16  13  15002   -4.688704\n",
       "17  13  15009   -1.857816\n",
       "18  13  15010  -49.096551\n",
       "19  13  15011   -4.320825\n",
       "20  13  15013   39.587736\n",
       "21  13  15016  -41.442470\n",
       "22  13  15020   -6.838143\n",
       "23  13  15022  -28.575404\n",
       "24  13  15024    0.131076\n",
       "25  13  15025   -6.641769\n",
       "26  13  15028   33.206434\n",
       "27  13  15029    7.599312\n",
       "28  13  15031  -11.595566\n",
       "29  13  15033    3.072167\n",
       "30  13  15035  -45.609668\n",
       "31  13  15036  -55.356634\n",
       "32  13  15037   81.609220\n",
       "33  13  15039   -5.821945\n",
       "34  13  15044  -25.261666\n",
       "35  13  15046    0.728717\n",
       "36  13  15053   -3.504023\n",
       "37  13  15057   35.650036\n",
       "38  13  15058   21.248781\n",
       "39  13  15059  -49.112066\n",
       "40  13  15060    8.093147\n",
       "41  13  15061  -67.783055\n",
       "42  13  15068  -35.007910\n",
       "43  13  15069   81.298711\n",
       "44  13  15070   10.304692\n",
       "45  13  15075    8.548208\n",
       "46  13  15081    5.853845\n",
       "47  13  15084  -39.168251\n",
       "48  13  15091   16.919647\n",
       "49  13  15092    8.096667\n",
       "50  13  15093  -53.726138\n",
       "51  13  15095   42.873455\n",
       "52  13  15099   25.595628\n",
       "53  13  15100  -61.878432\n",
       "54  13  15103   19.757670\n",
       "55  13  15104    9.011934\n",
       "56  13  15108   -4.677905\n",
       "57  13  15109   -8.648058\n",
       "58  13  15112   -6.267070\n",
       "59  13  15120  -11.472551\n",
       "60  13  15121   12.688633\n",
       "61  13  15122   -1.639309\n",
       "62  21  14039   34.339185\n",
       "63  21  14044   10.281234\n",
       "64  21  14051   98.661224\n",
       "65  21  14070  -40.965568\n",
       "66  21  14097    3.260512\n",
       "67  21  14098    6.258355\n",
       "68  21  14101  -10.544185\n",
       "69  21  14120   31.577787\n",
       "70  31  19006    4.207783\n",
       "71  31  19009  -28.056269\n",
       "72  31  19010  -10.291482\n",
       "73  31  19018  -10.608249\n",
       "74  31  19019   69.965029\n",
       "75  31  19021  -17.620851\n",
       "76  31  19026   -2.638996\n",
       "77  31  19031  -37.645115\n",
       "78  31  19039   29.712760\n",
       "79  31  19045  -43.336118\n",
       "80  31  19046   -1.696510\n",
       "81  31  19048   33.747683\n",
       "82  31  19049   15.515749"
      ]
     },
     "execution_count": 321,
     "metadata": {},
     "output_type": "execute_result"
    }
   ],
   "source": [
    "data_10[['zm','clave','growth']].groupby(['zm','clave'],as_index=False).mean()"
   ]
  },
  {
   "cell_type": "code",
   "execution_count": 323,
   "metadata": {},
   "outputs": [
    {
     "data": {
      "text/html": [
       "<div>\n",
       "<style scoped>\n",
       "    .dataframe tbody tr th:only-of-type {\n",
       "        vertical-align: middle;\n",
       "    }\n",
       "\n",
       "    .dataframe tbody tr th {\n",
       "        vertical-align: top;\n",
       "    }\n",
       "\n",
       "    .dataframe thead th {\n",
       "        text-align: right;\n",
       "    }\n",
       "</style>\n",
       "<table border=\"1\" class=\"dataframe\">\n",
       "  <thead>\n",
       "    <tr style=\"text-align: right;\">\n",
       "      <th></th>\n",
       "      <th>clave</th>\n",
       "      <th>id</th>\n",
       "      <th>zm</th>\n",
       "      <th>loc</th>\n",
       "      <th>ageb</th>\n",
       "      <th>pobtot</th>\n",
       "      <th>pocupada_f</th>\n",
       "      <th>pocupada</th>\n",
       "      <th>vph_autom</th>\n",
       "      <th>vivtot</th>\n",
       "      <th>vph_pc</th>\n",
       "      <th>pct_wf</th>\n",
       "      <th>pct_hh_car</th>\n",
       "      <th>pct_hh_pc</th>\n",
       "      <th>growth</th>\n",
       "    </tr>\n",
       "  </thead>\n",
       "  <tbody>\n",
       "    <tr>\n",
       "      <th>1727</th>\n",
       "      <td>14051</td>\n",
       "      <td>1405100010162</td>\n",
       "      <td>21</td>\n",
       "      <td>1.0</td>\n",
       "      <td>0162</td>\n",
       "      <td>267.0</td>\n",
       "      <td>34.478588</td>\n",
       "      <td>90.142292</td>\n",
       "      <td>32.850457</td>\n",
       "      <td>60.0</td>\n",
       "      <td>13.09441</td>\n",
       "      <td>38.249069</td>\n",
       "      <td>54.750761</td>\n",
       "      <td>21.824017</td>\n",
       "      <td>98.661224</td>\n",
       "    </tr>\n",
       "  </tbody>\n",
       "</table>\n",
       "</div>"
      ],
      "text/plain": [
       "      clave             id  zm  loc  ageb  pobtot  pocupada_f   pocupada  \\\n",
       "1727  14051  1405100010162  21  1.0  0162   267.0   34.478588  90.142292   \n",
       "\n",
       "      vph_autom  vivtot    vph_pc     pct_wf  pct_hh_car  pct_hh_pc     growth  \n",
       "1727  32.850457    60.0  13.09441  38.249069   54.750761  21.824017  98.661224  "
      ]
     },
     "execution_count": 323,
     "metadata": {},
     "output_type": "execute_result"
    }
   ],
   "source": [
    "data_10[data_10['clave']==14051]"
   ]
  },
  {
   "cell_type": "code",
   "execution_count": 313,
   "metadata": {},
   "outputs": [
    {
     "data": {
      "text/html": [
       "<div>\n",
       "<style scoped>\n",
       "    .dataframe tbody tr th:only-of-type {\n",
       "        vertical-align: middle;\n",
       "    }\n",
       "\n",
       "    .dataframe tbody tr th {\n",
       "        vertical-align: top;\n",
       "    }\n",
       "\n",
       "    .dataframe thead th {\n",
       "        text-align: right;\n",
       "    }\n",
       "</style>\n",
       "<table border=\"1\" class=\"dataframe\">\n",
       "  <thead>\n",
       "    <tr style=\"text-align: right;\">\n",
       "      <th></th>\n",
       "      <th>zm</th>\n",
       "      <th>clave</th>\n",
       "      <th>growth</th>\n",
       "      <th>CVE_ENT</th>\n",
       "      <th>CVE_MUN</th>\n",
       "    </tr>\n",
       "  </thead>\n",
       "  <tbody>\n",
       "    <tr>\n",
       "      <th>0</th>\n",
       "      <td>13</td>\n",
       "      <td>9002</td>\n",
       "      <td>2.281499</td>\n",
       "      <td>09</td>\n",
       "      <td>002</td>\n",
       "    </tr>\n",
       "    <tr>\n",
       "      <th>1</th>\n",
       "      <td>13</td>\n",
       "      <td>9003</td>\n",
       "      <td>11.477190</td>\n",
       "      <td>09</td>\n",
       "      <td>003</td>\n",
       "    </tr>\n",
       "  </tbody>\n",
       "</table>\n",
       "</div>"
      ],
      "text/plain": [
       "   zm  clave     growth CVE_ENT CVE_MUN\n",
       "0  13   9002   2.281499      09     002\n",
       "1  13   9003  11.477190      09     003"
      ]
     },
     "execution_count": 313,
     "metadata": {},
     "output_type": "execute_result"
    }
   ],
   "source": [
    "data_grouped.head(2)"
   ]
  },
  {
   "cell_type": "code",
   "execution_count": 306,
   "metadata": {},
   "outputs": [],
   "source": [
    "data_grouped['CVE_ENT']=[zero_plus(str(round(i/1000)),2) for i in data_grouped['clave']]"
   ]
  },
  {
   "cell_type": "code",
   "execution_count": 309,
   "metadata": {},
   "outputs": [],
   "source": [
    "data_grouped['CVE_MUN']=[zero_plus(str(i%1000),3) for i in data_grouped['clave']]"
   ]
  },
  {
   "cell_type": "code",
   "execution_count": 314,
   "metadata": {},
   "outputs": [],
   "source": [
    "for i in [13,21,31]:\n",
    "    aux=data_grouped[data_grouped['zm']==i]\n",
    "    aux.to_csv(path+'/'+f'growth_{i}.csv',index=False)"
   ]
  },
  {
   "cell_type": "code",
   "execution_count": 260,
   "metadata": {},
   "outputs": [
    {
     "data": {
      "text/html": [
       "<div>\n",
       "<style scoped>\n",
       "    .dataframe tbody tr th:only-of-type {\n",
       "        vertical-align: middle;\n",
       "    }\n",
       "\n",
       "    .dataframe tbody tr th {\n",
       "        vertical-align: top;\n",
       "    }\n",
       "\n",
       "    .dataframe thead th {\n",
       "        text-align: right;\n",
       "    }\n",
       "</style>\n",
       "<table border=\"1\" class=\"dataframe\">\n",
       "  <thead>\n",
       "    <tr style=\"text-align: right;\">\n",
       "      <th></th>\n",
       "      <th>precio m2 2010 predicted</th>\n",
       "      <th>precio m2 2020</th>\n",
       "      <th>growth</th>\n",
       "    </tr>\n",
       "  </thead>\n",
       "  <tbody>\n",
       "    <tr>\n",
       "      <th>count</th>\n",
       "      <td>2780.000000</td>\n",
       "      <td>2780.000000</td>\n",
       "      <td>2780.000000</td>\n",
       "    </tr>\n",
       "    <tr>\n",
       "      <th>mean</th>\n",
       "      <td>13924.599090</td>\n",
       "      <td>15473.118343</td>\n",
       "      <td>14.478806</td>\n",
       "    </tr>\n",
       "    <tr>\n",
       "      <th>std</th>\n",
       "      <td>4062.338663</td>\n",
       "      <td>7444.378062</td>\n",
       "      <td>52.484046</td>\n",
       "    </tr>\n",
       "    <tr>\n",
       "      <th>min</th>\n",
       "      <td>6077.744169</td>\n",
       "      <td>5363.941176</td>\n",
       "      <td>-83.257447</td>\n",
       "    </tr>\n",
       "    <tr>\n",
       "      <th>25%</th>\n",
       "      <td>11020.047236</td>\n",
       "      <td>9820.595682</td>\n",
       "      <td>-22.541021</td>\n",
       "    </tr>\n",
       "    <tr>\n",
       "      <th>50%</th>\n",
       "      <td>13222.488804</td>\n",
       "      <td>13294.779377</td>\n",
       "      <td>5.721540</td>\n",
       "    </tr>\n",
       "    <tr>\n",
       "      <th>75%</th>\n",
       "      <td>15652.273408</td>\n",
       "      <td>19869.304291</td>\n",
       "      <td>41.136640</td>\n",
       "    </tr>\n",
       "    <tr>\n",
       "      <th>max</th>\n",
       "      <td>39308.158640</td>\n",
       "      <td>38759.689922</td>\n",
       "      <td>370.399066</td>\n",
       "    </tr>\n",
       "  </tbody>\n",
       "</table>\n",
       "</div>"
      ],
      "text/plain": [
       "       precio m2 2010 predicted  precio m2 2020       growth\n",
       "count               2780.000000     2780.000000  2780.000000\n",
       "mean               13924.599090    15473.118343    14.478806\n",
       "std                 4062.338663     7444.378062    52.484046\n",
       "min                 6077.744169     5363.941176   -83.257447\n",
       "25%                11020.047236     9820.595682   -22.541021\n",
       "50%                13222.488804    13294.779377     5.721540\n",
       "75%                15652.273408    19869.304291    41.136640\n",
       "max                39308.158640    38759.689922   370.399066"
      ]
     },
     "execution_count": 260,
     "metadata": {},
     "output_type": "execute_result"
    }
   ],
   "source": [
    "predictions.describe()"
   ]
  },
  {
   "cell_type": "markdown",
   "metadata": {},
   "source": [
    "We decided to show only movements that we didn't consider outliers. "
   ]
  },
  {
   "cell_type": "markdown",
   "metadata": {},
   "source": [
    "# Percentage increase distribution in $price/m^2$ in Benito Juarez"
   ]
  },
  {
   "cell_type": "code",
   "execution_count": 261,
   "metadata": {},
   "outputs": [
    {
     "name": "stdout",
     "output_type": "stream",
     "text": [
      "1515\n",
      "2780\n"
     ]
    },
    {
     "data": {
      "image/png": "[encoded data removed]",
      "text/plain": [
       "<Figure size 432x288 with 1 Axes>"
      ]
     },
     "metadata": {
      "needs_background": "light"
     },
     "output_type": "display_data"
    }
   ],
   "source": [
    "plt.hist(results['growth'])\n",
    "print((results['growth']>0).sum())\n",
    "print(len(results['growth']))"
   ]
  },
  {
   "cell_type": "code",
   "execution_count": 262,
   "metadata": {},
   "outputs": [
    {
     "data": {
      "text/plain": [
       "(2780, 2)"
      ]
     },
     "execution_count": 262,
     "metadata": {},
     "output_type": "execute_result"
    }
   ],
   "source": [
    "results.shape"
   ]
  },
  {
   "cell_type": "markdown",
   "metadata": {},
   "source": [
    "### Exporting the results of the model to visualize the results."
   ]
  },
  {
   "cell_type": "code",
   "execution_count": 264,
   "metadata": {},
   "outputs": [],
   "source": [
    "results.to_csv(path+'/results.csv',index=False)"
   ]
  },
  {
   "cell_type": "markdown",
   "metadata": {},
   "source": [
    "In the next plots we analyzed how the percentages changed in percentual points."
   ]
  },
  {
   "cell_type": "code",
   "execution_count": 263,
   "metadata": {},
   "outputs": [
    {
     "name": "stdout",
     "output_type": "stream",
     "text": [
      "Percentual points change in vph_pc\n"
     ]
    },
    {
     "data": {
      "image/png": "[encoded data removed]",
      "text/plain": [
       "<Figure size 432x288 with 1 Axes>"
      ]
     },
     "metadata": {
      "needs_background": "light"
     },
     "output_type": "display_data"
    },
    {
     "name": "stdout",
     "output_type": "stream",
     "text": [
      "Percentual points change in pct_wf\n"
     ]
    },
    {
     "data": {
      "image/png": "[encoded data removed]",
      "text/plain": [
       "<Figure size 432x288 with 1 Axes>"
      ]
     },
     "metadata": {
      "needs_background": "light"
     },
     "output_type": "display_data"
    },
    {
     "name": "stdout",
     "output_type": "stream",
     "text": [
      "Percentual points change in pct_hh_car\n"
     ]
    },
    {
     "data": {
      "image/png": "[encoded data removed]",
      "text/plain": [
       "<Figure size 432x288 with 1 Axes>"
      ]
     },
     "metadata": {
      "needs_background": "light"
     },
     "output_type": "display_data"
    },
    {
     "name": "stdout",
     "output_type": "stream",
     "text": [
      "Percentual points change in pct_hh_pc\n"
     ]
    },
    {
     "data": {
      "image/png": "[encoded data removed]",
      "text/plain": [
       "<Figure size 432x288 with 1 Axes>"
      ]
     },
     "metadata": {
      "needs_background": "light"
     },
     "output_type": "display_data"
    }
   ],
   "source": [
    "for column in list(X_20):\n",
    "    change=X_20[column]-X_10[column]\n",
    "\n",
    "    print(f'Percentual points change in {column}')\n",
    "    plt.hist(change)\n",
    "    plt.show()"
   ]
  },
  {
   "cell_type": "code",
   "execution_count": 298,
   "metadata": {},
   "outputs": [],
   "source": [
    "import geopandas as gpd\n",
    "\n",
    "zm='13'\n",
    "zm=gpd.read_file(f'/Volumes/TOSHIBA EXT/BootCamp/Shapes/zms/zm_{zm}_growth.shp')\n",
    "#zm['growth'][zm['growth'].isna()]=0"
   ]
  },
  {
   "cell_type": "code",
   "execution_count": 275,
   "metadata": {},
   "outputs": [
    {
     "name": "stdout",
     "output_type": "stream",
     "text": [
      "(5770, 8)\n",
      "(5770, 10)\n",
      "(1992, 8)\n",
      "(1992, 10)\n",
      "(2012, 8)\n",
      "(2012, 10)\n"
     ]
    }
   ],
   "source": [
    "for zm_n in ['13','21','31']:\n",
    "\n",
    "    zm=gpd.read_file(f'/Volumes/TOSHIBA EXT/BootCamp/Shapes/zms/zm_{zm_n}.shp')\n",
    "    print(zm.shape)\n",
    "    zm=zm.merge(results,how='left',left_on='CVEGEO', right_on='id')\n",
    "    print(zm.shape)\n",
    "    zm.to_file(f'/Volumes/TOSHIBA EXT/BootCamp/Shapes/zms/zm_{zm_n}_growth.shp')\n",
    "    zm.to_file(f\"/Volumes/TOSHIBA EXT/BootCamp/Shapes/zms/zm_{zm_n}.geojson\", driver='GeoJSON')"
   ]
  },
  {
   "cell_type": "code",
   "execution_count": 278,
   "metadata": {},
   "outputs": [
    {
     "data": {
      "text/html": [
       "<div>\n",
       "<style scoped>\n",
       "    .dataframe tbody tr th:only-of-type {\n",
       "        vertical-align: middle;\n",
       "    }\n",
       "\n",
       "    .dataframe tbody tr th {\n",
       "        vertical-align: top;\n",
       "    }\n",
       "\n",
       "    .dataframe thead th {\n",
       "        text-align: right;\n",
       "    }\n",
       "</style>\n",
       "<table border=\"1\" class=\"dataframe\">\n",
       "  <thead>\n",
       "    <tr style=\"text-align: right;\">\n",
       "      <th></th>\n",
       "      <th>CVEGEO</th>\n",
       "      <th>CVE_ENT</th>\n",
       "      <th>CVE_MUN</th>\n",
       "      <th>CVE_LOC</th>\n",
       "      <th>CVE_AGEB</th>\n",
       "      <th>clave</th>\n",
       "      <th>ZM</th>\n",
       "      <th>id</th>\n",
       "      <th>growth</th>\n",
       "      <th>geometry</th>\n",
       "    </tr>\n",
       "  </thead>\n",
       "  <tbody>\n",
       "    <tr>\n",
       "      <th>0</th>\n",
       "      <td>1500200050177</td>\n",
       "      <td>15</td>\n",
       "      <td>2</td>\n",
       "      <td>0005</td>\n",
       "      <td>0177</td>\n",
       "      <td>15002</td>\n",
       "      <td>1</td>\n",
       "      <td>None</td>\n",
       "      <td>NaN</td>\n",
       "      <td>POLYGON ((-98.88892 19.66129, -98.88900 19.660...</td>\n",
       "    </tr>\n",
       "    <tr>\n",
       "      <th>1</th>\n",
       "      <td>1500200150073</td>\n",
       "      <td>15</td>\n",
       "      <td>2</td>\n",
       "      <td>0015</td>\n",
       "      <td>0073</td>\n",
       "      <td>15002</td>\n",
       "      <td>1</td>\n",
       "      <td>None</td>\n",
       "      <td>NaN</td>\n",
       "      <td>POLYGON ((-98.90758 19.61170, -98.90784 19.610...</td>\n",
       "    </tr>\n",
       "    <tr>\n",
       "      <th>2</th>\n",
       "      <td>1500200150143</td>\n",
       "      <td>15</td>\n",
       "      <td>2</td>\n",
       "      <td>0015</td>\n",
       "      <td>0143</td>\n",
       "      <td>15002</td>\n",
       "      <td>1</td>\n",
       "      <td>None</td>\n",
       "      <td>NaN</td>\n",
       "      <td>POLYGON ((-98.95587 19.62465, -98.95506 19.624...</td>\n",
       "    </tr>\n",
       "    <tr>\n",
       "      <th>3</th>\n",
       "      <td>1500200150637</td>\n",
       "      <td>15</td>\n",
       "      <td>2</td>\n",
       "      <td>0015</td>\n",
       "      <td>0637</td>\n",
       "      <td>15002</td>\n",
       "      <td>1</td>\n",
       "      <td>None</td>\n",
       "      <td>NaN</td>\n",
       "      <td>POLYGON ((-98.98965 19.59113, -98.98978 19.590...</td>\n",
       "    </tr>\n",
       "    <tr>\n",
       "      <th>4</th>\n",
       "      <td>1500200150548</td>\n",
       "      <td>15</td>\n",
       "      <td>2</td>\n",
       "      <td>0015</td>\n",
       "      <td>0548</td>\n",
       "      <td>15002</td>\n",
       "      <td>1</td>\n",
       "      <td>None</td>\n",
       "      <td>NaN</td>\n",
       "      <td>POLYGON ((-98.97448 19.62163, -98.97447 19.621...</td>\n",
       "    </tr>\n",
       "  </tbody>\n",
       "</table>\n",
       "</div>"
      ],
      "text/plain": [
       "          CVEGEO  CVE_ENT  CVE_MUN CVE_LOC CVE_AGEB  clave  ZM    id  growth  \\\n",
       "0  1500200050177       15        2    0005     0177  15002   1  None     NaN   \n",
       "1  1500200150073       15        2    0015     0073  15002   1  None     NaN   \n",
       "2  1500200150143       15        2    0015     0143  15002   1  None     NaN   \n",
       "3  1500200150637       15        2    0015     0637  15002   1  None     NaN   \n",
       "4  1500200150548       15        2    0015     0548  15002   1  None     NaN   \n",
       "\n",
       "                                            geometry  \n",
       "0  POLYGON ((-98.88892 19.66129, -98.88900 19.660...  \n",
       "1  POLYGON ((-98.90758 19.61170, -98.90784 19.610...  \n",
       "2  POLYGON ((-98.95587 19.62465, -98.95506 19.624...  \n",
       "3  POLYGON ((-98.98965 19.59113, -98.98978 19.590...  \n",
       "4  POLYGON ((-98.97448 19.62163, -98.97447 19.621...  "
      ]
     },
     "execution_count": 278,
     "metadata": {},
     "output_type": "execute_result"
    }
   ],
   "source": [
    "zm.head()"
   ]
  },
  {
   "cell_type": "code",
   "execution_count": 299,
   "metadata": {},
   "outputs": [
    {
     "data": {
      "text/plain": [
       "<AxesSubplot:title={'center':'Price increase'}>"
      ]
     },
     "execution_count": 299,
     "metadata": {},
     "output_type": "execute_result"
    },
    {
     "data": {
      "image/png": "[encoded data removed]",
      "text/plain": [
       "<Figure size 2160x720 with 2 Axes>"
      ]
     },
     "metadata": {
      "needs_background": "light"
     },
     "output_type": "display_data"
    }
   ],
   "source": [
    "# set the value column that will be visualised\n",
    "variable = 'growth'\n",
    "# set the range for the choropleth values\n",
    "vmin, vmax = -150, 150\n",
    "# create figure and axes for Matplotlib\n",
    "fig, ax = plt.subplots(1, figsize=(30, 10))\n",
    "# remove the axis\n",
    "ax.axis('off')\n",
    "# add a title and annotation\n",
    "ax.set_title('Price increase', fontdict={'fontsize': '25', 'fontweight' : '3'})\n",
    "# ax.annotate('Source: Wikipedia - https://en.wikipedia.org/wiki/Provinces_of_Indonesia', xy=(0.6, .05), xycoords='figure fraction', fontsize=12, color='#555555')\n",
    "# Create colorbar legend\n",
    "sm = plt.cm.ScalarMappable(cmap='viridis', norm=plt.Normalize(vmin=vmin, vmax=vmax))\n",
    "# empty array for the data range\n",
    "sm.set_array([]) # or alternatively sm._A = []. Not sure why this step is necessary, but many recommends it\n",
    "# add the colorbar to the figure\n",
    "fig.colorbar(sm)\n",
    "# create map\n",
    "#zm[zm['CVE_ENT']==9].plot(column=variable, cmap='viridis', linewidth=0.8, ax=ax, edgecolor='0.8')\n",
    "zm.plot(column=variable, cmap='viridis', linewidth=0.8, ax=ax, edgecolor='0.8')"
   ]
  }
 ],
 "metadata": {
  "kernelspec": {
   "display_name": "Python 3",
   "language": "python",
   "name": "python3"
  },
  "language_info": {
   "codemirror_mode": {
    "name": "ipython",
    "version": 3
   },
   "file_extension": ".py",
   "mimetype": "text/x-python",
   "name": "python",
   "nbconvert_exporter": "python",
   "pygments_lexer": "ipython3",
   "version": "3.8.5"
  }
 },
 "nbformat": 4,
 "nbformat_minor": 4
}
