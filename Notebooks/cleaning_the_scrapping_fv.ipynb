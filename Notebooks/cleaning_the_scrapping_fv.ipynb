{
 "cells": [
  {
   "cell_type": "code",
   "execution_count": 1,
   "metadata": {},
   "outputs": [],
   "source": [
    "import pandas as pd\n",
    "from datetime import date"
   ]
  },
  {
   "cell_type": "code",
   "execution_count": 10,
   "metadata": {},
   "outputs": [],
   "source": [
    "zm_n=13"
   ]
  },
  {
   "cell_type": "markdown",
   "metadata": {},
   "source": [
    "### Drop info with atypical values"
   ]
  },
  {
   "cell_type": "code",
   "execution_count": 11,
   "metadata": {},
   "outputs": [],
   "source": [
    "#Got from https://www.metroscubicos.com/precios/distrito-federal/benito-juarez\n",
    "#Benito Juarez is the smallest municipality by population with data available\n",
    "\n",
    "max_p=38816.72\n",
    "\n",
    "#Got from https://www.metroscubicos.com/precios/estado-de-mexico/teoloyucan\n",
    "#Teoloyucan is the smallest municipality by population with data available\n",
    "\n",
    "min_p=5355.23\n",
    "\n",
    "min_m=50\n",
    "\n",
    "date_=str(date.today().year)+'_'+str(date.today().month)+'_'+str(date.today().day)\n",
    "data=pd.read_csv('data_ZM_'+str(zm_n)+'_'+date_+'.csv')"
   ]
  },
  {
   "cell_type": "code",
   "execution_count": 12,
   "metadata": {},
   "outputs": [
    {
     "name": "stdout",
     "output_type": "stream",
     "text": [
      "11791\n",
      "9397\n"
     ]
    }
   ],
   "source": [
    "print(data.shape[0])\n",
    "cl=(data.p_m>min_p)&(data.p_m<max_p)&(data.m2>min_m)\n",
    "data=data[cl]\n",
    "print(data.shape[0])"
   ]
  },
  {
   "cell_type": "code",
   "execution_count": 13,
   "metadata": {},
   "outputs": [],
   "source": [
    "data.to_csv('data_ZM_'+str(zm_n)+'_'+date_+'_cleaned.csv',index=False)"
   ]
  }
 ],
 "metadata": {
  "kernelspec": {
   "display_name": "Python 3",
   "language": "python",
   "name": "python3"
  },
  "language_info": {
   "codemirror_mode": {
    "name": "ipython",
    "version": 3
   },
   "file_extension": ".py",
   "mimetype": "text/x-python",
   "name": "python",
   "nbconvert_exporter": "python",
   "pygments_lexer": "ipython3",
   "version": "3.8.5"
  }
 },
 "nbformat": 4,
 "nbformat_minor": 4
}
